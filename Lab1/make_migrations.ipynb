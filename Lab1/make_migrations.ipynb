{
 "cells": [
  {
   "cell_type": "markdown",
   "metadata": {},
   "source": [
    "### Инициализация соединения с базой данных"
   ]
  },
  {
   "cell_type": "code",
   "execution_count": 1,
   "metadata": {},
   "outputs": [],
   "source": [
    "import psycopg2"
   ]
  },
  {
   "cell_type": "code",
   "execution_count": 2,
   "metadata": {},
   "outputs": [],
   "source": [
    "conn = psycopg2.connect(dbname='Library', user='admin', \n",
    "                        password='admin', host='localhost')"
   ]
  },
  {
   "cell_type": "markdown",
   "metadata": {},
   "source": [
    "### Drop Table"
   ]
  },
  {
   "cell_type": "code",
   "execution_count": 3,
   "metadata": {},
   "outputs": [],
   "source": [
    "drop_tables_sql_query = \"\"\n",
    "with open(\"Clear.sql\", \"r\") as f:\n",
    "    drop_tables_sql_query = f.read().replace(\"\\n\", \"\")"
   ]
  },
  {
   "cell_type": "code",
   "execution_count": 4,
   "metadata": {},
   "outputs": [],
   "source": [
    "cursor = conn.cursor()\n",
    "cursor.execute(drop_tables_sql_query)\n",
    "cursor.close()\n",
    "conn.commit()"
   ]
  },
  {
   "cell_type": "markdown",
   "metadata": {},
   "source": [
    "### Создание таблиц"
   ]
  },
  {
   "cell_type": "code",
   "execution_count": 5,
   "metadata": {},
   "outputs": [],
   "source": [
    "create_tables_sql_query = \"\"\n",
    "with open(\"Task1.sql\", \"r\") as f:\n",
    "    create_tables_sql_query = f.read().replace(\"\\n\", \"\")"
   ]
  },
  {
   "cell_type": "code",
   "execution_count": 6,
   "metadata": {},
   "outputs": [],
   "source": [
    "cursor = conn.cursor()\n",
    "cursor.execute(create_tables_sql_query)\n",
    "cursor.close()\n",
    "conn.commit()"
   ]
  },
  {
   "cell_type": "markdown",
   "metadata": {},
   "source": [
    "### Добавление данных в таблицу Magazines (журналы)"
   ]
  },
  {
   "cell_type": "code",
   "execution_count": 7,
   "metadata": {},
   "outputs": [],
   "source": [
    "magazines_sql_query = \"\"\n",
    "with open(\"Magazines.sql\", \"r\") as f:\n",
    "    magazines_sql_query = f.read().replace(\"\\n\", \"\")"
   ]
  },
  {
   "cell_type": "code",
   "execution_count": 8,
   "metadata": {},
   "outputs": [],
   "source": [
    "cursor = conn.cursor()\n",
    "cursor.execute(magazines_sql_query)\n",
    "cursor.close()\n",
    "conn.commit()"
   ]
  },
  {
   "cell_type": "markdown",
   "metadata": {},
   "source": [
    "### Добавление данных в таблицу Rubricator (рубрики)"
   ]
  },
  {
   "cell_type": "code",
   "execution_count": 9,
   "metadata": {},
   "outputs": [],
   "source": [
    "rubricator_sql_query = \"\"\n",
    "with open(\"Rubricator.sql\", \"r\") as f:\n",
    "    rubricator_sql_query = f.read().replace(\"\\n\", \"\")"
   ]
  },
  {
   "cell_type": "code",
   "execution_count": 10,
   "metadata": {},
   "outputs": [],
   "source": [
    "cursor = conn.cursor()\n",
    "cursor.execute(rubricator_sql_query)\n",
    "cursor.close()\n",
    "conn.commit()"
   ]
  },
  {
   "cell_type": "markdown",
   "metadata": {},
   "source": [
    "### Добавление данных в таблицу Releases (релизы)"
   ]
  },
  {
   "cell_type": "code",
   "execution_count": 11,
   "metadata": {},
   "outputs": [],
   "source": [
    "# Получение ID всех журналов\n",
    "cursor = conn.cursor()\n",
    "cursor.execute(\"SELECT Magazine_ID FROM magazines\")\n",
    "magazines_id_array = cursor.fetchall()\n",
    "cursor.close()\n",
    "conn.commit()"
   ]
  },
  {
   "cell_type": "code",
   "execution_count": 12,
   "metadata": {},
   "outputs": [
    {
     "data": {
      "text/plain": [
       "[0, 1, 2, 3, 4, 5, 6, 7, 8, 9]"
      ]
     },
     "execution_count": 12,
     "metadata": {},
     "output_type": "execute_result"
    }
   ],
   "source": [
    "magazines_id_array = [i[0] for i in magazines_id_array]\n",
    "magazines_id_array"
   ]
  },
  {
   "cell_type": "code",
   "execution_count": 13,
   "metadata": {},
   "outputs": [],
   "source": [
    "# Генерация таблицы \n",
    "from random import random, randint, choice\n",
    "\n",
    "generated_releases = \"\"\n",
    "\n",
    "release_id = 0\n",
    "\n",
    "for journal in magazines_id_array:\n",
    "    first_year = randint(2005, 2016) # Генерация года начала выпуска журнала\n",
    "    end_year = randint(2019, 2022)   # Генерация конца выпуска журнала\n",
    "    for i, y in enumerate(range(first_year, end_year+1)):\n",
    "        generated_releases += f\"({release_id}, {journal}, {y}, {i + 1}), \"\n",
    "        release_id += 1"
   ]
  },
  {
   "cell_type": "code",
   "execution_count": 14,
   "metadata": {},
   "outputs": [],
   "source": [
    "releases_sql_query = \"INSERT INTO Releases (Release_ID, Magazine_ID, Year, Issue_Number) VALUES \" + generated_releases[:-2]"
   ]
  },
  {
   "cell_type": "code",
   "execution_count": 15,
   "metadata": {},
   "outputs": [],
   "source": [
    "# Получение ID всех журналов\n",
    "cursor = conn.cursor()\n",
    "cursor.execute(releases_sql_query)\n",
    "cursor.close()\n",
    "conn.commit()"
   ]
  },
  {
   "cell_type": "markdown",
   "metadata": {},
   "source": [
    "### Добавление данных в таблицу Publications (Публикации)\n"
   ]
  },
  {
   "cell_type": "code",
   "execution_count": 16,
   "metadata": {},
   "outputs": [],
   "source": [
    "articles = {\n",
    "    \"03.01.00\": ['Династия Романовы', 'Петр 1 - Завоевания', 'История современной России'],\n",
    "    \"18.51.00\": ['Цирк Вернадского', 'МАИ 3 факультет. В поисках потеряного деканата.'],\n",
    "    \"41.23.00\": ['Путешествие к далеким звездам', 'Покорение дальних созвездий и галактик'],\n",
    "    \"42.24.00\": ['Контецнеризация и виртуализация. Принципы и особенности', 'Почему фронтенд такой опасный',\n",
    "        'Рейтинг самых популярных языков программирования', 'Уйти из АйТи'],\n",
    "    \"42.25.00\": ['Столбчатые базы данных', 'Особенности Redis'],\n",
    "    \"42.26.00\": ['Самые используемые СУБД. Сравнение.', 'Что такое MySQL'],\n",
    "    \"18.67.00\": ['Звездные войны. Почему стоит посмотреть этот фильм', 'Обзор российской киноиндустрии', 'Почему книги лучше фильмов: война титанов', \n",
    "        'Антирейтинг кино', 'Кино закончилось'],\n",
    "    \"19.61.00\": ['Скандал в прямом эфире', 'Путешествие в киностудию Мосфильм'],           \n",
    "    \"18.71.00\": ['Искусство в древней Руси', 'Современное народное искусство'], \n",
    "    \"03.41.00\": ['В Антарктиде найдены останки неопознанного существа', 'Что такое Археология', 'Раскопки на берегу реки Волга'],\n",
    "    \"05.41.00\": ['Хватит терять \"мозги\". Что делать с оттоком умных людей заграницу.', 'Ссылка в Сибирь. За что и почему?'],\n",
    "    \"05.61.00\": ['Население России за последние 5 лет', 'Что делать с быстрым увеличением численности населения на планете?'],\n",
    "    \"18.49.00\": ['5 движений, которые должен знать каждый человек', 'Танец - это жизнь'],\n",
    "    \"18.50.00\": ['Как DJ Groove пишет свою музыку', 'Концерт Рахманинова'],\n",
    "    \"18.55.00\": [\"Самые яркие звезды эстрады\", \"Новое шоу с участием звезд эстрады\"], \n",
    "    \"45.45.00\": [\"Как правильно подобрать электросварочное оборудование\", 'Инструмент, который помогает заработать много денег']\n",
    "}"
   ]
  },
  {
   "cell_type": "code",
   "execution_count": 17,
   "metadata": {},
   "outputs": [],
   "source": [
    "articles_array = []\n",
    "for rubric in articles:\n",
    "    for article in articles[rubric]:\n",
    "        articles_array.append({\"code\": rubric, \"article\": article})"
   ]
  },
  {
   "cell_type": "code",
   "execution_count": 18,
   "metadata": {},
   "outputs": [
    {
     "data": {
      "text/plain": [
       "{'code': '42.26.00', 'article': 'Самые используемые СУБД. Сравнение.'}"
      ]
     },
     "execution_count": 18,
     "metadata": {},
     "output_type": "execute_result"
    }
   ],
   "source": [
    "choice(articles_array)"
   ]
  },
  {
   "cell_type": "code",
   "execution_count": 19,
   "metadata": {},
   "outputs": [],
   "source": [
    "import names\n",
    "\n",
    "authors_list = [names.get_full_name() for i in range(20)]"
   ]
  },
  {
   "cell_type": "code",
   "execution_count": 20,
   "metadata": {},
   "outputs": [],
   "source": [
    "\n",
    "publications_values = \"\"\n",
    "publication_id = 0\n",
    "for release in range(release_id):\n",
    "    count_of_articles = randint(1, 3)\n",
    "    for j in range(count_of_articles):\n",
    "        random_article = choice(articles_array)\n",
    "        publications_values += \"({}, {}, '{}', '{}', '{}'), \".format(publication_id, release, random_article[\"code\"], choice(authors_list), random_article[\"article\"])\n",
    "        publication_id += 1"
   ]
  },
  {
   "cell_type": "code",
   "execution_count": 21,
   "metadata": {},
   "outputs": [],
   "source": [
    "publications_sql_query = \"INSERT INTO Publications (Publication_ID, Release_ID, Rubricator_Code, Author, Article) VALUES \" + publications_values[:-2]"
   ]
  },
  {
   "cell_type": "code",
   "execution_count": 22,
   "metadata": {},
   "outputs": [],
   "source": [
    "# Получение ID всех журналов\n",
    "cursor = conn.cursor()\n",
    "cursor.execute(publications_sql_query)\n",
    "cursor.close()\n",
    "conn.commit()"
   ]
  }
 ],
 "metadata": {
  "kernelspec": {
   "display_name": "Python 3.10.7 ('venv': venv)",
   "language": "python",
   "name": "python3"
  },
  "language_info": {
   "codemirror_mode": {
    "name": "ipython",
    "version": 3
   },
   "file_extension": ".py",
   "mimetype": "text/x-python",
   "name": "python",
   "nbconvert_exporter": "python",
   "pygments_lexer": "ipython3",
   "version": "3.10.7"
  },
  "orig_nbformat": 4,
  "vscode": {
   "interpreter": {
    "hash": "826ca584dfa9a375dcea87389f4b654a998b2323c732fe08f939232d15668c02"
   }
  }
 },
 "nbformat": 4,
 "nbformat_minor": 2
}
